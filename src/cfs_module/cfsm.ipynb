{
 "cells": [
  {
   "cell_type": "markdown",
   "metadata": {},
   "source": [
    "Extract tickers obtaineed from ssm.ipynb"
   ]
  },
  {
   "cell_type": "code",
   "execution_count": null,
   "metadata": {},
   "outputs": [],
   "source": [
    "from pprint import pprint\n",
    "\n",
    "ticker_names = []\n",
    "\n",
    "with open(r'./subset_c.txt', 'r') as fp:\n",
    "    for line in fp:\n",
    "        x = line[:-1] # excluding \\n char\n",
    "        ticker_names.append(x)\n",
    "\n",
    "pprint(ticker_names)"
   ]
  },
  {
   "cell_type": "markdown",
   "metadata": {},
   "source": [
    "Rank the target stock list by descending dividend yield."
   ]
  },
  {
   "cell_type": "code",
   "execution_count": null,
   "metadata": {},
   "outputs": [],
   "source": [
    "import yfinance as yf\n",
    "\n",
    "tickers = list(yf.Tickers(ticker_names).tickers.values())\n",
    "\n",
    "# pprint(tickers[0].info)\n",
    "cnt = 0\n",
    "for ticker in tickers:\n",
    "    try:\n",
    "        ticker.info['dividendYield']\n",
    "    except KeyError:\n",
    "        tickers.remove(ticker)\n",
    "\n",
    "sorted_tickers = sorted(tickers, key=lambda x: x.info[\"dividendYield\"], reverse=True)\n",
    "print(sorted_tickers[0].info['dividendYield'])"
   ]
  },
  {
   "cell_type": "markdown",
   "metadata": {},
   "source": [
    "For each target stock get the PUT option chain with expiry dates more than 3 days but less than 15 days before the ex-div date [\"exDividendDate\"]."
   ]
  },
  {
   "cell_type": "code",
   "execution_count": null,
   "metadata": {},
   "outputs": [],
   "source": [
    "from datetime import datetime\n",
    "tickers = []\n",
    "\n",
    "for ticker in sorted_tickers:\n",
    "    ticker_dates = {}\n",
    "    ticker_dates[\"ticker\"] = ticker\n",
    "    ticker_dates[\"options\"] = []\n",
    "    exDividendDate = datetime.fromtimestamp(ticker.info[\"exDividendDate\"]).date()\n",
    "    ticker_dates[\"exDividendDate\"] = exDividendDate\n",
    "    for option in ticker.options:\n",
    "        date = datetime.strptime(option, '%Y-%m-%d').date() \n",
    "        difference = exDividendDate - date\n",
    "        if 3 < difference.days < 15:\n",
    "            ticker_dates[\"options\"].append(option)\n",
    "    if len(ticker_dates[\"options\"]) > 0:\n",
    "        tickers.append(ticker_dates)\n",
    "\n",
    "pprint(tickers)"
   ]
  },
  {
   "cell_type": "markdown",
   "metadata": {},
   "source": [
    "Remove all contracts with an open interest less than 1000 contracts.\n",
    "Remove all contracts with a strike price greater than or less than 2% of the current market price.  "
   ]
  },
  {
   "cell_type": "code",
   "execution_count": null,
   "metadata": {},
   "outputs": [],
   "source": [
    "import pandas as pd\n",
    "\n",
    "for ticker in tickers:\n",
    "    ticker['contracts'] = pd.DataFrame()\n",
    "    market_price = ticker[\"ticker\"].history()['Close'].iloc[-1]\n",
    "    print(f\"MARKET PRICE: {market_price}\")\n",
    "    for option in ticker[\"options\"]:\n",
    "        chain = ticker[\"ticker\"].option_chain(option)\n",
    "        puts_calls = pd.concat([chain.puts, chain.calls])\n",
    "        puts_calls.query('`openInterest` > 1000', inplace=True)\n",
    "        puts_calls.query('`strike` > (@market_price * 0.98)', inplace=True)\n",
    "        puts_calls.query('`strike` < @market_price * 1.02', inplace=True)\n",
    "        ticker['contracts'] = pd.concat([ticker['contracts'], puts_calls])\n",
    "    \n",
    "pprint(tickers)\n",
    "\n"
   ]
  },
  {
   "cell_type": "markdown",
   "metadata": {},
   "source": [
    "Rank the contracts by descending premiums."
   ]
  }
 ],
 "metadata": {
  "kernelspec": {
   "display_name": "merismaCapture",
   "language": "python",
   "name": "python3"
  },
  "language_info": {
   "codemirror_mode": {
    "name": "ipython",
    "version": 3
   },
   "file_extension": ".py",
   "mimetype": "text/x-python",
   "name": "python",
   "nbconvert_exporter": "python",
   "pygments_lexer": "ipython3",
   "version": "3.10.11"
  }
 },
 "nbformat": 4,
 "nbformat_minor": 2
}
