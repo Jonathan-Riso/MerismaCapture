{
 "cells": [
  {
   "cell_type": "markdown",
   "metadata": {},
   "source": [
    "**Table of contents**<a id='toc0_'></a>    \n",
    "- [Capital Flow Schedule Module (cfsm)](#toc1_)    \n",
    "  - [Extracting tickers obtained from ssm.ipynb](#toc1_1_)    \n",
    "  - [Ranking the target stock list](#toc1_2_)    \n",
    "  - [Obtaining the options and parsing](#toc1_3_)    \n",
    "  - [Parsing contracts based on quantity and strike price](#toc1_4_)    \n",
    "  - [Rank the contracts by descending premiums.](#toc1_5_)    \n",
    "  - [Creating the CSV file for output.](#toc1_6_)    \n",
    "\n",
    "<!-- vscode-jupyter-toc-config\n",
    "\tnumbering=false\n",
    "\tanchor=true\n",
    "\tflat=false\n",
    "\tminLevel=1\n",
    "\tmaxLevel=6\n",
    "\t/vscode-jupyter-toc-config -->\n",
    "<!-- THIS CELL WILL BE REPLACED ON TOC UPDATE. DO NOT WRITE YOUR TEXT IN THIS CELL -->"
   ]
  },
  {
   "cell_type": "markdown",
   "metadata": {},
   "source": [
    "# <a id='toc1_'></a>[Capital Flow Schedule Module (cfsm)](#toc0_)\n",
    "The cfsm creates a csv file using the target stock list previously generated in the stock screener module. Start dates and end dates are determined by the target stock’s selected derivative expiry date (PUTS, CALLS) and ex-dividend date. The csv file will be used to create the capital flow and the trade flow schedule.   "
   ]
  },
  {
   "cell_type": "markdown",
   "metadata": {},
   "source": [
    "## <a id='toc1_1_'></a>[Extracting tickers obtained from ssm.ipynb](#toc0_)\n",
    "The ticker symbols which we will use to query yahoo finance are located in a text file called subset_c.txt. Extracting them is trivial as we simply go line by line and append all the chars to the list."
   ]
  },
  {
   "cell_type": "code",
   "execution_count": null,
   "metadata": {},
   "outputs": [],
   "source": [
    "from pprint import pprint\n",
    "\n",
    "ticker_names = []\n",
    "\n",
    "with open(r'./subset_c.txt', 'r') as fp:\n",
    "    for line in fp:\n",
    "        x = line[:-1] # excluding \\n char\n",
    "        ticker_names.append(x)\n",
    "\n",
    "pprint(ticker_names)"
   ]
  },
  {
   "cell_type": "markdown",
   "metadata": {},
   "source": [
    "## <a id='toc1_2_'></a>[Ranking the target stock list](#toc0_)\n",
    "Using the symbol names, we extract the data concerning the ticker from yfinance and then rank the target stock list by descending dividend yield."
   ]
  },
  {
   "cell_type": "code",
   "execution_count": null,
   "metadata": {},
   "outputs": [],
   "source": [
    "import yfinance as yf\n",
    "\n",
    "tickers = list(yf.Tickers(ticker_names).tickers.values())\n",
    "\n",
    "# pprint(tickers[0].info)\n",
    "cnt = 0\n",
    "for ticker in tickers:\n",
    "    try:\n",
    "        ticker.info['dividendYield']\n",
    "    except KeyError:\n",
    "        tickers.remove(ticker)\n",
    "\n",
    "sorted_tickers = sorted(tickers, key=lambda x: x.info[\"dividendYield\"], reverse=True)\n",
    "print(sorted_tickers[0].info['dividendYield'])"
   ]
  },
  {
   "cell_type": "markdown",
   "metadata": {},
   "source": [
    "## <a id='toc1_3_'></a>[Obtaining the options and parsing](#toc0_)\n",
    "We obtain a list of all options of a given ticker and then for each target stock get the option chain with expiry dates more than 3 days but less than 15 days before the ex-div date \n",
    "\n",
    "We want a target stock with an ex div date that is relatively close so that the pay out is more likely."
   ]
  },
  {
   "cell_type": "code",
   "execution_count": null,
   "metadata": {},
   "outputs": [],
   "source": [
    "from datetime import datetime\n",
    "tickers = []\n",
    "\n",
    "for ticker in sorted_tickers:\n",
    "    ticker_dates = {}\n",
    "    ticker_dates[\"ticker\"] = ticker\n",
    "    ticker_dates[\"options\"] = []\n",
    "    exDividendDate = datetime.fromtimestamp(ticker.info[\"exDividendDate\"]).date()\n",
    "    ticker_dates[\"exDividendDate\"] = exDividendDate\n",
    "    for option in ticker.options:\n",
    "        date = datetime.strptime(option, '%Y-%m-%d').date() \n",
    "        difference = exDividendDate - date\n",
    "        if 3 < difference.days < 15:\n",
    "            ticker_dates[\"options\"].append(option)\n",
    "    if len(ticker_dates[\"options\"]) > 0:\n",
    "        tickers.append(ticker_dates)\n",
    "\n",
    "pprint(tickers)"
   ]
  },
  {
   "cell_type": "markdown",
   "metadata": {},
   "source": [
    "## <a id='toc1_4_'></a>[Parsing contracts based on quantity and strike price](#toc0_)\n",
    "We want to remove all contracts with an open interest less than 1000 contracts and with a strike price greater than or less than 2% of the current market price. \n",
    "\n",
    "The closer the market price to the strike price the better odds the contract will pay out after the ex-dividend date which is an outcome we desire.  "
   ]
  },
  {
   "cell_type": "code",
   "execution_count": null,
   "metadata": {},
   "outputs": [],
   "source": [
    "import pandas as pd\n",
    "\n",
    "for ticker in tickers:\n",
    "    ticker['contracts'] = pd.DataFrame()\n",
    "    market_price = ticker[\"ticker\"].history()['Close'].iloc[-1]\n",
    "    # print(f\"MARKET PRICE: {market_price}\")\n",
    "    for option in ticker[\"options\"]:\n",
    "        chain = ticker[\"ticker\"].option_chain(option)\n",
    "        puts_calls = pd.concat([chain.puts, chain.calls])\n",
    "        puts_calls.query('`openInterest` > 1000', inplace=True)\n",
    "        puts_calls.query('`strike` > (@market_price * 0.98)', inplace=True)\n",
    "        puts_calls.query('`strike` < @market_price * 1.02', inplace=True)\n",
    "        ticker['contracts'] = pd.concat([ticker['contracts'], puts_calls])\n",
    "    \n",
    "pprint(tickers)\n",
    "\n"
   ]
  },
  {
   "cell_type": "markdown",
   "metadata": {},
   "source": [
    "## <a id='toc1_5_'></a>[Rank the contracts by descending premiums.](#toc0_)\n",
    "\n",
    "We rank the contracts per ticker by descending premiums so that the best contracts appear first in the csv file."
   ]
  },
  {
   "cell_type": "code",
   "execution_count": null,
   "metadata": {},
   "outputs": [],
   "source": [
    "for ticker in tickers:\n",
    "    ticker['contracts'].sort_values('impliedVolatility')\n",
    "\n",
    "pprint(tickers)"
   ]
  },
  {
   "cell_type": "markdown",
   "metadata": {},
   "source": [
    "## <a id='toc1_6_'></a>[Creating the CSV file for output.](#toc0_)\n",
    "\n",
    "We simply take all the fields given in yfinance and the ticker symbol + the ex-dividend date for easy interpretation of the results and further analysis."
   ]
  },
  {
   "cell_type": "code",
   "execution_count": null,
   "metadata": {},
   "outputs": [],
   "source": [
    "import csv\n",
    "\n",
    "columns = [ \n",
    "    \"symbol\", \"exDividendDate\",\n",
    "    \"contractSymbol\", \"lastTradeDate\", \"strike\",\n",
    "    \"lastPrice\", \"bid\", \"ask\",\n",
    "    \"change\", \"percentChange\", \"volume\",\n",
    "    \"openInterest\", \"impliedVolatility\",\n",
    "    \"inTheMoney\", \"contractSize\", \"currency\"\n",
    "]\n",
    "with open ('output.csv', 'w', newline='') as csv_file:\n",
    "    csv_writer = csv.writer(csv_file, delimiter=',')\n",
    "    csv_writer.writerow(columns)\n",
    "    for ticker in tickers:\n",
    "        row = []\n",
    "        for contract in ticker['contracts'].values:\n",
    "            row = [ticker['ticker'].info[\"symbol\"], ticker['exDividendDate']]  \n",
    "            row.extend(contract)\n",
    "            csv_writer.writerow(row)"
   ]
  }
 ],
 "metadata": {
  "kernelspec": {
   "display_name": "merismaCapture",
   "language": "python",
   "name": "python3"
  },
  "language_info": {
   "codemirror_mode": {
    "name": "ipython",
    "version": 3
   },
   "file_extension": ".py",
   "mimetype": "text/x-python",
   "name": "python",
   "nbconvert_exporter": "python",
   "pygments_lexer": "ipython3",
   "version": "3.10.11"
  }
 },
 "nbformat": 4,
 "nbformat_minor": 2
}
