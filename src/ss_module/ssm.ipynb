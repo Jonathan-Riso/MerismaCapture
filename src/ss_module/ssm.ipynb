{
 "cells": [
  {
   "cell_type": "code",
   "execution_count": 94,
   "metadata": {},
   "outputs": [],
   "source": [
    "# Imports\n",
    "import csv\n",
    "import os\n",
    "\n",
    "FILE_PATH = 'C:\\\\Users\\\\jona1\\\\github\\\\MerismaCapture\\\\src\\\\ss_module\\\\dataset\\\\'\n",
    "CIK_IDENTIFIERS = [\n",
    "    '0001720792',\n",
    "    '0001099281',\n",
    "    '0001079114',\n",
    "    '0001112520',\n",
    "    '0001641864',\n",
    "    '0000846222',\n",
    "    '0001709323',\n",
    "    '0000732905',\n",
    "    '0000883965',\n",
    "    '0001067983',\n",
    "    '0001061768',\n",
    "]"
   ]
  },
  {
   "cell_type": "markdown",
   "metadata": {},
   "source": [
    "From the SUBMISSION table fetch a list of ACCESSION_NUMBER(s) using the CIK identifiers in table A-1 (Appendix).\n",
    "\n",
    "\n"
   ]
  },
  {
   "cell_type": "code",
   "execution_count": 95,
   "metadata": {},
   "outputs": [
    {
     "name": "stdout",
     "output_type": "stream",
     "text": [
      "35\n"
     ]
    }
   ],
   "source": [
    "\n",
    "picked_submissions = []\n",
    "with open(FILE_PATH + 'SUBMISSION_2023_q1.tsv', 'r', encoding='utf-8') as q1:\n",
    "    for submission in csv.DictReader(q1, delimiter=\"\\t\"):\n",
    "        if submission[\"CIK\"] in CIK_IDENTIFIERS:\n",
    "            picked_submissions.append(submission[\"ACCESSION_NUMBER\"])\n",
    "\n",
    "with open(FILE_PATH + 'SUBMISSION_2023_q2.tsv', 'r', encoding='utf-8') as q2:\n",
    "    for submission in csv.DictReader(q2, delimiter=\"\\t\"):\n",
    "        if submission[\"CIK\"] in CIK_IDENTIFIERS:\n",
    "            picked_submissions.append(submission[\"ACCESSION_NUMBER\"])\n",
    "\n",
    "with open(FILE_PATH + 'SUBMISSION_2023_q3.tsv', 'r', encoding='utf-8') as q3:\n",
    "    for submission in csv.DictReader(q3, delimiter=\"\\t\"):\n",
    "        if submission[\"CIK\"] in CIK_IDENTIFIERS:\n",
    "            picked_submissions.append(submission[\"ACCESSION_NUMBER\"])\n",
    "    \n",
    "\n",
    "print(len(picked_submissions))\n"
   ]
  },
  {
   "cell_type": "markdown",
   "metadata": {},
   "source": [
    "From the INFOTABLE fetch a list of NAMEOFISSUER(s) using the ACCESSION_NUMBER(s) created in (b). Use CUSIP(s) to map between both."
   ]
  },
  {
   "cell_type": "code",
   "execution_count": null,
   "metadata": {},
   "outputs": [],
   "source": []
  }
 ],
 "metadata": {
  "kernelspec": {
   "display_name": "Python 3",
   "language": "python",
   "name": "python3"
  },
  "language_info": {
   "codemirror_mode": {
    "name": "ipython",
    "version": 3
   },
   "file_extension": ".py",
   "mimetype": "text/x-python",
   "name": "python",
   "nbconvert_exporter": "python",
   "pygments_lexer": "ipython3",
   "version": "3.12.1"
  }
 },
 "nbformat": 4,
 "nbformat_minor": 2
}
