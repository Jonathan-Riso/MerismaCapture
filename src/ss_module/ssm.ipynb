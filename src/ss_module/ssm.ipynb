{
 "cells": [
  {
   "cell_type": "code",
   "execution_count": 15,
   "metadata": {},
   "outputs": [],
   "source": [
    "# Prelimenary Imports and ENV variable definitions\n",
    "import csv\n",
    "import requests\n",
    "import os\n",
    "import yfinance as yf\n",
    "\n",
    "from dotenv import load_dotenv\n",
    "from pprint import pprint\n",
    "\n",
    "load_dotenv()\n",
    "FILE_PATH = os.environ.get(\"FILE_PATH\") \n",
    "\n",
    "\n",
    "CIK_IDENTIFIERS = [\n",
    "    '0001720792',\n",
    "    '0001099281',\n",
    "    '0001079114',\n",
    "    '0001112520',\n",
    "    '0001641864',\n",
    "    '0000846222',\n",
    "    '0001709323',\n",
    "    '0000732905',\n",
    "    '0000883965',\n",
    "    '0001067983',\n",
    "    '0001061768',\n",
    "]"
   ]
  },
  {
   "cell_type": "markdown",
   "metadata": {},
   "source": [
    "From the SUBMISSION table fetch a list of ACCESSION_NUMBER(s) using the CIK identifiers in table A-1 (Appendix).\n",
    "\n",
    "\n"
   ]
  },
  {
   "cell_type": "code",
   "execution_count": 16,
   "metadata": {},
   "outputs": [
    {
     "name": "stdout",
     "output_type": "stream",
     "text": [
      "['0000950123-23-002585',\n",
      " '0001172661-23-001336',\n",
      " '0001709323-23-000001',\n",
      " '0000919574-23-001107',\n",
      " '0001567619-23-002543',\n",
      " '0001112520-23-000006',\n",
      " '0001213900-23-001958',\n",
      " '0001099281-23-000009',\n",
      " '0001641864-23-000002',\n",
      " '0000950123-23-001270',\n",
      " '0001821268-23-000059',\n",
      " '0001641864-23-000004',\n",
      " '0001099281-23-000012',\n",
      " '0001709323-23-000004',\n",
      " '0001172661-23-002282',\n",
      " '0000919574-23-003116',\n",
      " '0000950123-23-005270',\n",
      " '0000950123-23-004966',\n",
      " '0001821268-23-000090',\n",
      " '0001567619-23-006061',\n",
      " '0001099281-23-000010',\n",
      " '0001641864-23-000003',\n",
      " '0001112520-23-000008',\n",
      " '0001213900-23-026907',\n",
      " '0000919574-23-004553',\n",
      " '0001172661-23-003174',\n",
      " '0001709323-23-000005',\n",
      " '0000950123-23-007916',\n",
      " '0000950123-23-008074',\n",
      " '0001099281-23-000013',\n",
      " '0001213900-23-056683',\n",
      " '0001112520-23-000013',\n",
      " '0001567619-23-006910',\n",
      " '0001821268-23-000158',\n",
      " '0001641864-23-000005']\n"
     ]
    }
   ],
   "source": [
    "\n",
    "picked_submissions = []\n",
    "with open(FILE_PATH + 'SUBMISSION_2023_q1.tsv', 'r', encoding='utf-8') as q1:\n",
    "    for submission in csv.DictReader(q1, delimiter=\"\\t\"):\n",
    "        if submission[\"CIK\"] in CIK_IDENTIFIERS:\n",
    "            picked_submissions.append(submission[\"ACCESSION_NUMBER\"])\n",
    "\n",
    "with open(FILE_PATH + 'SUBMISSION_2023_q2.tsv', 'r', encoding='utf-8') as q2:\n",
    "    for submission in csv.DictReader(q2, delimiter=\"\\t\"):\n",
    "        if submission[\"CIK\"] in CIK_IDENTIFIERS:\n",
    "            picked_submissions.append(submission[\"ACCESSION_NUMBER\"])\n",
    "\n",
    "with open(FILE_PATH + 'SUBMISSION_2023_q3.tsv', 'r', encoding='utf-8') as q3:\n",
    "    for submission in csv.DictReader(q3, delimiter=\"\\t\"):\n",
    "        if submission[\"CIK\"] in CIK_IDENTIFIERS:\n",
    "            picked_submissions.append(submission[\"ACCESSION_NUMBER\"])\n",
    "    \n",
    "\n",
    "pprint(picked_submissions)\n"
   ]
  },
  {
   "cell_type": "markdown",
   "metadata": {},
   "source": [
    "From the INFOTABLE fetch a list of NAMEOFISSUER(s) using the ACCESSION_NUMBER(s) created in (b). Use CUSIP(s) to map between brokers since it is unique where names differ slightly."
   ]
  },
  {
   "cell_type": "code",
   "execution_count": 17,
   "metadata": {},
   "outputs": [],
   "source": [
    "names_of_issuers = set()\n",
    "\n",
    "with open(FILE_PATH + 'INFOTABLE_2023_q1.tsv', 'r', encoding='utf-8') as q1:\n",
    "    for entry in csv.DictReader(q1, delimiter=\"\\t\"):\n",
    "        if entry[\"ACCESSION_NUMBER\"] in picked_submissions:\n",
    "            names_of_issuers.add(entry[\"CUSIP\"].upper())\n",
    "            # if entry[\"CUSIP\"] not in names_of_issuers:\n",
    "            #     names_of_issuers[entry[\"CUSIP\"]] = set()\n",
    "            # names_of_issuers[entry[\"CUSIP\"]].add(entry[\"NAMEOFISSUER\"])\n",
    "\n",
    "with open(FILE_PATH + 'INFOTABLE_2023_q2.tsv', 'r', encoding='utf-8') as q2:\n",
    "    for entry in csv.DictReader(q2, delimiter=\"\\t\"):\n",
    "        if entry[\"ACCESSION_NUMBER\"] in picked_submissions:\n",
    "            names_of_issuers.add(entry[\"CUSIP\"].upper())\n",
    "            # if entry[\"CUSIP\"] not in names_of_issuers:\n",
    "            #     names_of_issuers[entry[\"CUSIP\"]] = set()\n",
    "            # names_of_issuers[entry[\"CUSIP\"]].add(entry[\"NAMEOFISSUER\"])\n",
    "\n",
    "with open(FILE_PATH + 'INFOTABLE_2023_q3.tsv', 'r', encoding='utf-8') as q3:\n",
    "    for entry in csv.DictReader(q3, delimiter=\"\\t\"):\n",
    "        if entry[\"ACCESSION_NUMBER\"] in picked_submissions:\n",
    "            names_of_issuers.add(entry[\"CUSIP\"].upper())\n",
    "            # if entry[\"CUSIP\"] not in names_of_issuers:\n",
    "            #     names_of_issuers[entry[\"CUSIP\"]] = set()\n",
    "            # names_of_issuers[entry[\"CUSIP\"]].add(entry[\"NAMEOFISSUER\"])\n",
    "    \n",
    "pprint(names_of_issuers)\n"
   ]
  },
  {
   "cell_type": "markdown",
   "metadata": {},
   "source": [
    "Now we need to convert the CUSIP to tickers, we will do this using the polygon API to fetch info about a holding by it's CUSIP ID. \n",
    "\n",
    "Simply download the last 2 most recent file from https://www.sec.gov/data/foiadocsfailsdatahtm and store in dataset folder.\n",
    "\n",
    "In this step we lose about 12% of the dataset... Unsure if there is a better way to resolve this"
   ]
  },
  {
   "cell_type": "code",
   "execution_count": null,
   "metadata": {},
   "outputs": [
    {
     "name": "stdout",
     "output_type": "stream",
     "text": [
      "{'request_id': 'a8cf791ed655913fc7e41f7680b5a2fb',\n",
      " 'results': [],\n",
      " 'status': 'OK'}\n",
      "['G06536125', '531229409', '531229607', '485859110', '31809Y202', '531229854', '64132K102', '87424L108', '090040AF3', 'G6882C106']\n",
      "set()\n"
     ]
    }
   ],
   "source": [
    "\n",
    "\n",
    "tickers = set()\n",
    "with open(FILE_PATH + 'cnsfails202311a','r') as f:\n",
    "    for entry in csv.DictReader(f, delimiter=\"|\"):\n",
    "        if entry['CUSIP'] in names_of_issuers: \n",
    "            tickers.add(entry['SYMBOL'])\n",
    "            names_of_issuers.remove(entry['CUSIP'])\n",
    "with open(FILE_PATH + 'cnsfails202310b','r') as f:\n",
    "    for entry in csv.DictReader(f, delimiter=\"|\"):\n",
    "        if entry['CUSIP'] in names_of_issuers: \n",
    "            tickers.add(entry['SYMBOL'])\n",
    "            names_of_issuers.remove(entry['CUSIP'])\n",
    "    \n",
    "pprint(tickers)\n",
    "# res = requests.get(URL, params={\"cusip\":names_of_issuers[0],\"active\": True, \"apiKey\": API_KEY})\n",
    "# ticker = yf.Ticker(names_of_issuers[0])"
   ]
  }
 ],
 "metadata": {
  "kernelspec": {
   "display_name": "Python 3",
   "language": "python",
   "name": "python3"
  },
  "language_info": {
   "codemirror_mode": {
    "name": "ipython",
    "version": 3
   },
   "file_extension": ".py",
   "mimetype": "text/x-python",
   "name": "python",
   "nbconvert_exporter": "python",
   "pygments_lexer": "ipython3",
   "version": "3.12.1"
  }
 },
 "nbformat": 4,
 "nbformat_minor": 2
}
